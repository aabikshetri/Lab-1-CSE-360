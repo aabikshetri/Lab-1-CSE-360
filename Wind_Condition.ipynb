{
  "nbformat": 4,
  "nbformat_minor": 0,
  "metadata": {
    "colab": {
      "provenance": []
    },
    "kernelspec": {
      "name": "python3",
      "display_name": "Python 3"
    },
    "language_info": {
      "name": "python"
    }
  },
  "cells": [
    {
      "cell_type": "code",
      "execution_count": null,
      "metadata": {
        "colab": {
          "base_uri": "https://localhost:8080/"
        },
        "id": "yLw6HuZwPNUB",
        "outputId": "4cf0a7be-fed9-4a3c-e79d-53209b9e35fe"
      },
      "outputs": [
        {
          "output_type": "stream",
          "name": "stdout",
          "text": [
            "Populating the interactive namespace from numpy and matplotlib\n"
          ]
        },
        {
          "output_type": "stream",
          "name": "stderr",
          "text": [
            "/usr/local/lib/python3.10/dist-packages/IPython/core/magics/pylab.py:159: UserWarning: pylab import has clobbered these variables: ['time']\n",
            "`%matplotlib` prevents importing * from pylab and numpy\n",
            "  warn(\"pylab import has clobbered these variables: %s\"  % clobbered +\n"
          ]
        },
        {
          "output_type": "stream",
          "name": "stdout",
          "text": [
            "Requirement already satisfied: JSAnimation in /usr/local/lib/python3.10/dist-packages (0.1)\n"
          ]
        }
      ],
      "source": [
        "%pylab inline\n",
        "!pip install JSAnimation\n",
        "import numpy as np\n",
        "from copy import copy\n",
        "import matplotlib.pyplot as plt\n",
        "from matplotlib import animation\n",
        "from IPython.display import HTML"
      ]
    },
    {
      "cell_type": "code",
      "source": [
        "def sense(x):\n",
        "  return x"
      ],
      "metadata": {
        "id": "oDKG3C2qPU8u"
      },
      "execution_count": null,
      "outputs": []
    },
    {
      "cell_type": "code",
      "source": [
        "def simulate(dt, x, u):\n",
        "    # wind to the dynamics\n",
        "    constant_wind = np.array([0.1, 0.1])\n",
        "    random_wind = np.random.normal(0, 0.1, size=(2,))\n",
        "    wind = constant_wind + random_wind\n",
        "\n",
        "    # State using wind-influenced control input\n",
        "    x = x + dt * (u + wind)\n",
        "\n",
        "    return x"
      ],
      "metadata": {
        "id": "zZowR_1IPbSs"
      },
      "execution_count": null,
      "outputs": []
    },
    {
      "cell_type": "code",
      "source": [
        "def control(t, y, wind):\n",
        "    # ontrol policy here\n",
        "    # controller to maintain circular motion\n",
        "    desired_speed = 1.0\n",
        "    current_speed = np.sqrt(y[0]**2 + y[1]**2)\n",
        "    error = desired_speed - current_speed\n",
        "\n",
        "    # controller\n",
        "    control_inp = error\n",
        "\n",
        "    # adding wind effect\n",
        "    control_inp += wind\n",
        "\n",
        "    return np.array([r * np.cos(t) + control_inp, r * np.sin(t) + control_inp])"
      ],
      "metadata": {
        "id": "oEI0r2PcPknv"
      },
      "execution_count": null,
      "outputs": []
    },
    {
      "cell_type": "code",
      "source": [
        "fig, ax = plt.subplots()\n",
        "\n",
        "def animate(t):\n",
        "    ax.clear()\n",
        "\n",
        "    # Path\n",
        "    ax.plot(x_log[:, 0], x_log[:, 1], 'r--')\n",
        "\n",
        "    # Initial conditions\n",
        "    ax.plot(x_log[t, 0], x_log[t, 1], 'bo')\n",
        "\n",
        "anim = animation.FuncAnimation(fig, animate, frames=len(x_log), interval=60)\n",
        "HTML(anim.to_jshtml())"
      ],
      "metadata": {
        "id": "kF9wX7-RQ8U_"
      },
      "execution_count": null,
      "outputs": []
    }
  ]
}